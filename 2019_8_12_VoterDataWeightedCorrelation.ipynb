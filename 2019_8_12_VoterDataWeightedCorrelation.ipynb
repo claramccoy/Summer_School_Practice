{
 "cells": [
  {
   "cell_type": "code",
   "execution_count": 1,
   "metadata": {
    "collapsed": true
   },
   "outputs": [],
   "source": [
    "import pandas as pd\n",
    "import numpy as np"
   ]
  },
  {
   "cell_type": "code",
   "execution_count": 2,
   "metadata": {},
   "outputs": [
    {
     "name": "stdout",
     "output_type": "stream",
     "text": [
      "/Users/claraturner\n"
     ]
    }
   ],
   "source": [
    "cd"
   ]
  },
  {
   "cell_type": "code",
   "execution_count": 3,
   "metadata": {},
   "outputs": [
    {
     "data": {
      "text/html": [
       "<div>\n",
       "<style>\n",
       "    .dataframe thead tr:only-child th {\n",
       "        text-align: right;\n",
       "    }\n",
       "\n",
       "    .dataframe thead th {\n",
       "        text-align: left;\n",
       "    }\n",
       "\n",
       "    .dataframe tbody tr th {\n",
       "        vertical-align: top;\n",
       "    }\n",
       "</style>\n",
       "<table border=\"1\" class=\"dataframe\">\n",
       "  <thead>\n",
       "    <tr style=\"text-align: right;\">\n",
       "      <th></th>\n",
       "      <th>CITY</th>\n",
       "      <th>Total Pop</th>\n",
       "      <th>HL%</th>\n",
       "      <th>HL</th>\n",
       "      <th>PERCENTWIN</th>\n",
       "      <th>TURNOUT</th>\n",
       "      <th>PERCENTWIN NORMALIZED</th>\n",
       "      <th>ELXNYR</th>\n",
       "      <th>DIST</th>\n",
       "      <th>BEFORE</th>\n",
       "    </tr>\n",
       "  </thead>\n",
       "  <tbody>\n",
       "    <tr>\n",
       "      <th>0</th>\n",
       "      <td>1</td>\n",
       "      <td>249.2730</td>\n",
       "      <td>18.946015</td>\n",
       "      <td>0</td>\n",
       "      <td>33.8</td>\n",
       "      <td>31.8</td>\n",
       "      <td>83.22</td>\n",
       "      <td>2014</td>\n",
       "      <td>0</td>\n",
       "      <td>1</td>\n",
       "    </tr>\n",
       "    <tr>\n",
       "      <th>1</th>\n",
       "      <td>1</td>\n",
       "      <td>1743.0000</td>\n",
       "      <td>89.845095</td>\n",
       "      <td>1</td>\n",
       "      <td>43.8</td>\n",
       "      <td>14.6</td>\n",
       "      <td>107.84</td>\n",
       "      <td>2014</td>\n",
       "      <td>0</td>\n",
       "      <td>1</td>\n",
       "    </tr>\n",
       "    <tr>\n",
       "      <th>2</th>\n",
       "      <td>1</td>\n",
       "      <td>2169.9220</td>\n",
       "      <td>74.727446</td>\n",
       "      <td>1</td>\n",
       "      <td>37.7</td>\n",
       "      <td>43.5</td>\n",
       "      <td>92.82</td>\n",
       "      <td>2014</td>\n",
       "      <td>0</td>\n",
       "      <td>1</td>\n",
       "    </tr>\n",
       "    <tr>\n",
       "      <th>3</th>\n",
       "      <td>1</td>\n",
       "      <td>3067.1920</td>\n",
       "      <td>59.070596</td>\n",
       "      <td>1</td>\n",
       "      <td>40.5</td>\n",
       "      <td>34.2</td>\n",
       "      <td>99.71</td>\n",
       "      <td>2014</td>\n",
       "      <td>0</td>\n",
       "      <td>1</td>\n",
       "    </tr>\n",
       "    <tr>\n",
       "      <th>4</th>\n",
       "      <td>1</td>\n",
       "      <td>3847.6884</td>\n",
       "      <td>67.886516</td>\n",
       "      <td>1</td>\n",
       "      <td>32.3</td>\n",
       "      <td>27.1</td>\n",
       "      <td>79.52</td>\n",
       "      <td>2014</td>\n",
       "      <td>0</td>\n",
       "      <td>1</td>\n",
       "    </tr>\n",
       "  </tbody>\n",
       "</table>\n",
       "</div>"
      ],
      "text/plain": [
       "   CITY  Total Pop        HL%  HL  PERCENTWIN  TURNOUT  PERCENTWIN NORMALIZED  \\\n",
       "0     1   249.2730  18.946015   0        33.8     31.8                  83.22   \n",
       "1     1  1743.0000  89.845095   1        43.8     14.6                 107.84   \n",
       "2     1  2169.9220  74.727446   1        37.7     43.5                  92.82   \n",
       "3     1  3067.1920  59.070596   1        40.5     34.2                  99.71   \n",
       "4     1  3847.6884  67.886516   1        32.3     27.1                  79.52   \n",
       "\n",
       "   ELXNYR  DIST  BEFORE  \n",
       "0    2014     0       1  \n",
       "1    2014     0       1  \n",
       "2    2014     0       1  \n",
       "3    2014     0       1  \n",
       "4    2014     0       1  "
      ]
     },
     "execution_count": 3,
     "metadata": {},
     "output_type": "execute_result"
    }
   ],
   "source": [
    "voter_data = pd.read_csv('Desktop/DE paper/2014testdata.csv')\n",
    "voter_data.head()\n",
    "#load data"
   ]
  },
  {
   "cell_type": "code",
   "execution_count": 4,
   "metadata": {},
   "outputs": [
    {
     "name": "stdout",
     "output_type": "stream",
     "text": [
      "-0.424870884798\n"
     ]
    }
   ],
   "source": [
    "#define and compute correlation, weighted by population\n",
    "\n",
    "def m(x, w):\n",
    "    \"\"\"Weighted Mean\"\"\"\n",
    "    return np.sum(x * w) / np.sum(w)\n",
    "\n",
    "def cov(x, y, w):\n",
    "    \"\"\"Weighted Covariance\"\"\"\n",
    "    return np.sum(w * (x - m(x, w)) * (y - m(y, w))) / np.sum(w)\n",
    "\n",
    "def corr(x, y, w):\n",
    "    \"\"\"Weighted Correlation\"\"\"\n",
    "    return cov(x, y, w) / np.sqrt(cov(x, x, w) * cov(y, y, w))\n",
    "#https://stackoverflow.com/questions/38641691/weighted-correlation-coefficient-with-pandas\n",
    "\n",
    "# Compute the correlation.\n",
    "r = corr(voter_data['HL%'], voter_data['PERCENTWIN NORMALIZED'], voter_data['Total Pop'])\n",
    "print(r)"
   ]
  }
 ],
 "metadata": {
  "kernelspec": {
   "display_name": "Python 3",
   "language": "python",
   "name": "python3"
  },
  "language_info": {
   "codemirror_mode": {
    "name": "ipython",
    "version": 3
   },
   "file_extension": ".py",
   "mimetype": "text/x-python",
   "name": "python",
   "nbconvert_exporter": "python",
   "pygments_lexer": "ipython3",
   "version": "3.6.1"
  }
 },
 "nbformat": 4,
 "nbformat_minor": 2
}
